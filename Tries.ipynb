{
 "cells": [
  {
   "cell_type": "markdown",
   "metadata": {},
   "source": [
    "# Tries \n",
    "\n",
    "A Trie is a tree data structure that stores strings in language data for prefix lookups (similar to building a list of crossword puzzle answers or even spell-checking).\n",
    "\n",
    "We've implemented two basic classes in Python to support adding characters to a Trie and creating the Trie object itself:"
   ]
  },
  {
   "cell_type": "code",
   "execution_count": 2,
   "metadata": {
    "collapsed": true
   },
   "outputs": [],
   "source": [
    "from collections import defaultdict\n",
    "\n",
    "class TrieNode:\n",
    "    \n",
    "    def __init__(self):\n",
    "        self.children = {}\n",
    "        self.terminate = False\n",
    "    \n",
    "    def add_child(self, letter):\n",
    "        if self.get(letter) is None:\n",
    "            self.children[letter] = TrieNode()\n",
    "            \n",
    "    def get(self, letter):\n",
    "        try:\n",
    "            return self.children[letter]\n",
    "        except KeyError:\n",
    "            return None\n",
    "        \n",
    "        \n",
    "class Trie:\n",
    "    \n",
    "    def __init__(self):\n",
    "        self.root = TrieNode()\n",
    "    \n",
    "    def add(self, word):\n",
    "        last_node = self.root\n",
    "        \n",
    "        for letter in word:\n",
    "            current_node = last_node.get(letter)\n",
    "            if current_node is None:\n",
    "                last_node.add_child(letter)\n",
    "                last_node = last_node.get(letter)\n",
    "            else:\n",
    "                last_node = current_node\n",
    "        last_node.terminate = True"
   ]
  },
  {
   "cell_type": "markdown",
   "metadata": {},
   "source": [
    "We create a dictionary of words (and naturally, a real dictionary would work the same, but be considerably longer), create a trie object, and add them all to the Trie:"
   ]
  },
  {
   "cell_type": "code",
   "execution_count": 3,
   "metadata": {
    "collapsed": true
   },
   "outputs": [],
   "source": [
    "words = [\"many\", \"many\", \"lie\", \"map\", \"rap\", \"zanzibar\", \"za\"]\n",
    "\n",
    "trie = Trie()\n",
    "\n",
    "for word in words:\n",
    "    trie.add(word)"
   ]
  },
  {
   "cell_type": "markdown",
   "metadata": {},
   "source": [
    "To check our work, we define a function that traverses the Trie and prints words when they lie on terminating nodes:"
   ]
  },
  {
   "cell_type": "code",
   "execution_count": 4,
   "metadata": {},
   "outputs": [
    {
     "name": "stdout",
     "output_type": "stream",
     "text": [
      "rap\n",
      "za\n",
      "zanzibar\n",
      "many\n",
      "map\n",
      "lie\n"
     ]
    }
   ],
   "source": [
    "def print_trie(node, path):\n",
    "    if node.terminate:\n",
    "        print(path)\n",
    "    \n",
    "    for k, child in node.children.items():\n",
    "        print_trie(child, ''.join(path)+k)\n",
    "        \n",
    "print_trie(trie.root, [])"
   ]
  },
  {
   "cell_type": "markdown",
   "metadata": {},
   "source": [
    "Finally, we implement a search that traverses a trie to find a particular word, and returns a Boolean value corresponding to whether it was found or not:"
   ]
  },
  {
   "cell_type": "code",
   "execution_count": 5,
   "metadata": {},
   "outputs": [
    {
     "name": "stdout",
     "output_type": "stream",
     "text": [
      "False\n",
      "True\n",
      "False\n"
     ]
    }
   ],
   "source": [
    "def search_trie(word, trie):\n",
    "    last_node = trie.root\n",
    "    \n",
    "    for letter in word:\n",
    "        current_node = last_node.get(letter)\n",
    "        if current_node is None:\n",
    "            return False\n",
    "        else:\n",
    "            last_node = current_node\n",
    "    \n",
    "    if last_node.terminate == True:\n",
    "        return True\n",
    "    else:\n",
    "        return False\n",
    "\n",
    "print(search_trie('li', trie))\n",
    "print(search_trie('lie', trie))\n",
    "print(search_trie('lies', trie))"
   ]
  },
  {
   "cell_type": "markdown",
   "metadata": {},
   "source": [
    "Give it your best trie!"
   ]
  },
  {
   "cell_type": "code",
   "execution_count": null,
   "metadata": {
    "collapsed": true
   },
   "outputs": [],
   "source": []
  }
 ],
 "metadata": {
  "kernelspec": {
   "display_name": "Python 3",
   "language": "python",
   "name": "python3"
  },
  "language_info": {
   "codemirror_mode": {
    "name": "ipython",
    "version": 3
   },
   "file_extension": ".py",
   "mimetype": "text/x-python",
   "name": "python",
   "nbconvert_exporter": "python",
   "pygments_lexer": "ipython3",
   "version": "3.5.2"
  }
 },
 "nbformat": 4,
 "nbformat_minor": 2
}
